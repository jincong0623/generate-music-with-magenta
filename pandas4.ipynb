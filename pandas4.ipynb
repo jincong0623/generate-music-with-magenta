{
 "cells": [
  {
   "cell_type": "code",
   "execution_count": 14,
   "metadata": {
    "collapsed": true
   },
   "outputs": [],
   "source": [
    "import numpy as np\n",
    "import pandas as pd\n",
    "from pandas import Series,DataFrame\n",
    "from numpy.random import randn"
   ]
  },
  {
   "cell_type": "code",
   "execution_count": 25,
   "metadata": {
    "collapsed": true
   },
   "outputs": [],
   "source": [
    "ser1 = Series([1,2,3,4],index=['a','b','c','d'])"
   ]
  },
  {
   "cell_type": "code",
   "execution_count": 26,
   "metadata": {
    "collapsed": false
   },
   "outputs": [
    {
     "data": {
      "text/plain": [
       "a    1\n",
       "b    2\n",
       "c    3\n",
       "d    4\n",
       "dtype: int64"
      ]
     },
     "execution_count": 26,
     "metadata": {},
     "output_type": "execute_result"
    }
   ],
   "source": [
    "ser1"
   ]
  },
  {
   "cell_type": "code",
   "execution_count": 27,
   "metadata": {
    "collapsed": false
   },
   "outputs": [],
   "source": [
    "ser2 = ser1.reindex(['a','b','c','d','e','f'])"
   ]
  },
  {
   "cell_type": "code",
   "execution_count": 28,
   "metadata": {
    "collapsed": false
   },
   "outputs": [
    {
     "data": {
      "text/plain": [
       "a    1.0\n",
       "b    2.0\n",
       "c    3.0\n",
       "d    4.0\n",
       "e    NaN\n",
       "f    NaN\n",
       "dtype: float64"
      ]
     },
     "execution_count": 28,
     "metadata": {},
     "output_type": "execute_result"
    }
   ],
   "source": [
    "ser2"
   ]
  },
  {
   "cell_type": "code",
   "execution_count": 29,
   "metadata": {
    "collapsed": false
   },
   "outputs": [
    {
     "data": {
      "text/plain": [
       "a    1.0\n",
       "b    2.0\n",
       "c    3.0\n",
       "d    4.0\n",
       "e    NaN\n",
       "f    NaN\n",
       "g    0.0\n",
       "dtype: float64"
      ]
     },
     "execution_count": 29,
     "metadata": {},
     "output_type": "execute_result"
    }
   ],
   "source": [
    "ser2.reindex(['a','b','c','d','e','f','g'],fill_value=0)"
   ]
  },
  {
   "cell_type": "code",
   "execution_count": 30,
   "metadata": {
    "collapsed": false
   },
   "outputs": [
    {
     "ename": "SyntaxError",
     "evalue": "invalid syntax (<ipython-input-30-70d51e3a1f32>, line 1)",
     "output_type": "error",
     "traceback": [
      "\u001b[1;36m  File \u001b[1;32m\"<ipython-input-30-70d51e3a1f32>\"\u001b[1;36m, line \u001b[1;32m1\u001b[0m\n\u001b[1;33m    yangyangyang woxiangniladashasha woxiangnila\u001b[0m\n\u001b[1;37m                                   ^\u001b[0m\n\u001b[1;31mSyntaxError\u001b[0m\u001b[1;31m:\u001b[0m invalid syntax\n"
     ]
    }
   ],
   "source": [
    "yangyangyang woxiangniladashasha woxiangnila    "
   ]
  },
  {
   "cell_type": "code",
   "execution_count": 31,
   "metadata": {
    "collapsed": false
   },
   "outputs": [
    {
     "data": {
      "text/plain": [
       "0        USA\n",
       "5     Mexico\n",
       "10    Canada\n",
       "dtype: object"
      ]
     },
     "execution_count": 31,
     "metadata": {},
     "output_type": "execute_result"
    }
   ],
   "source": [
    "ser3 = Series(['USA','Mexico','Canada'],index=[0,5,10])\n",
    "ser3"
   ]
  },
  {
   "cell_type": "code",
   "execution_count": 32,
   "metadata": {
    "collapsed": true
   },
   "outputs": [],
   "source": [
    "ranger = range(15)"
   ]
  },
  {
   "cell_type": "code",
   "execution_count": 33,
   "metadata": {
    "collapsed": false
   },
   "outputs": [
    {
     "data": {
      "text/plain": [
       "range(0, 15)"
      ]
     },
     "execution_count": 33,
     "metadata": {},
     "output_type": "execute_result"
    }
   ],
   "source": [
    "ranger"
   ]
  },
  {
   "cell_type": "code",
   "execution_count": 34,
   "metadata": {
    "collapsed": false
   },
   "outputs": [
    {
     "data": {
      "text/plain": [
       "0        USA\n",
       "5     Mexico\n",
       "10    Canada\n",
       "dtype: object"
      ]
     },
     "execution_count": 34,
     "metadata": {},
     "output_type": "execute_result"
    }
   ],
   "source": [
    "ser3.reindex(ranger,method='ffill')\n",
    "ser3"
   ]
  },
  {
   "cell_type": "code",
   "execution_count": 35,
   "metadata": {
    "collapsed": false
   },
   "outputs": [
    {
     "data": {
      "text/plain": [
       "0        USA\n",
       "1        USA\n",
       "2        USA\n",
       "3        USA\n",
       "4        USA\n",
       "5     Mexico\n",
       "6     Mexico\n",
       "7     Mexico\n",
       "8     Mexico\n",
       "9     Mexico\n",
       "10    Canada\n",
       "11    Canada\n",
       "12    Canada\n",
       "13    Canada\n",
       "14    Canada\n",
       "dtype: object"
      ]
     },
     "execution_count": 35,
     "metadata": {},
     "output_type": "execute_result"
    }
   ],
   "source": [
    "ser3.reindex(ranger,method='ffill')\n"
   ]
  },
  {
   "cell_type": "code",
   "execution_count": 39,
   "metadata": {
    "collapsed": false
   },
   "outputs": [],
   "source": [
    "dframe = DataFrame(randn(25).reshape((5,5)), index=['A','B','D','E','F'],\n",
    "                  columns=['col1','col2','col3','col4','col5'])"
   ]
  },
  {
   "cell_type": "code",
   "execution_count": 40,
   "metadata": {
    "collapsed": false
   },
   "outputs": [
    {
     "data": {
      "text/html": [
       "<div>\n",
       "<table border=\"1\" class=\"dataframe\">\n",
       "  <thead>\n",
       "    <tr style=\"text-align: right;\">\n",
       "      <th></th>\n",
       "      <th>col1</th>\n",
       "      <th>col2</th>\n",
       "      <th>col3</th>\n",
       "      <th>col4</th>\n",
       "      <th>col5</th>\n",
       "    </tr>\n",
       "  </thead>\n",
       "  <tbody>\n",
       "    <tr>\n",
       "      <th>A</th>\n",
       "      <td>0.007045</td>\n",
       "      <td>-0.037213</td>\n",
       "      <td>-1.569754</td>\n",
       "      <td>-0.944114</td>\n",
       "      <td>-0.120270</td>\n",
       "    </tr>\n",
       "    <tr>\n",
       "      <th>B</th>\n",
       "      <td>-2.881577</td>\n",
       "      <td>-1.006870</td>\n",
       "      <td>2.245421</td>\n",
       "      <td>-0.130803</td>\n",
       "      <td>-0.620081</td>\n",
       "    </tr>\n",
       "    <tr>\n",
       "      <th>D</th>\n",
       "      <td>0.507860</td>\n",
       "      <td>1.840622</td>\n",
       "      <td>-0.941093</td>\n",
       "      <td>-0.641656</td>\n",
       "      <td>0.105882</td>\n",
       "    </tr>\n",
       "    <tr>\n",
       "      <th>E</th>\n",
       "      <td>0.360632</td>\n",
       "      <td>0.917208</td>\n",
       "      <td>0.905216</td>\n",
       "      <td>-0.035630</td>\n",
       "      <td>-0.398177</td>\n",
       "    </tr>\n",
       "    <tr>\n",
       "      <th>F</th>\n",
       "      <td>-2.406437</td>\n",
       "      <td>-0.443849</td>\n",
       "      <td>0.720432</td>\n",
       "      <td>-0.466449</td>\n",
       "      <td>1.244525</td>\n",
       "    </tr>\n",
       "  </tbody>\n",
       "</table>\n",
       "</div>"
      ],
      "text/plain": [
       "       col1      col2      col3      col4      col5\n",
       "A  0.007045 -0.037213 -1.569754 -0.944114 -0.120270\n",
       "B -2.881577 -1.006870  2.245421 -0.130803 -0.620081\n",
       "D  0.507860  1.840622 -0.941093 -0.641656  0.105882\n",
       "E  0.360632  0.917208  0.905216 -0.035630 -0.398177\n",
       "F -2.406437 -0.443849  0.720432 -0.466449  1.244525"
      ]
     },
     "execution_count": 40,
     "metadata": {},
     "output_type": "execute_result"
    }
   ],
   "source": [
    "dframe"
   ]
  },
  {
   "cell_type": "code",
   "execution_count": 42,
   "metadata": {
    "collapsed": false
   },
   "outputs": [
    {
     "data": {
      "text/html": [
       "<div>\n",
       "<table border=\"1\" class=\"dataframe\">\n",
       "  <thead>\n",
       "    <tr style=\"text-align: right;\">\n",
       "      <th></th>\n",
       "      <th>col1</th>\n",
       "      <th>col2</th>\n",
       "      <th>col3</th>\n",
       "      <th>col4</th>\n",
       "      <th>col5</th>\n",
       "    </tr>\n",
       "  </thead>\n",
       "  <tbody>\n",
       "    <tr>\n",
       "      <th>A</th>\n",
       "      <td>0.007045</td>\n",
       "      <td>-0.037213</td>\n",
       "      <td>-1.569754</td>\n",
       "      <td>-0.944114</td>\n",
       "      <td>-0.120270</td>\n",
       "    </tr>\n",
       "    <tr>\n",
       "      <th>B</th>\n",
       "      <td>-2.881577</td>\n",
       "      <td>-1.006870</td>\n",
       "      <td>2.245421</td>\n",
       "      <td>-0.130803</td>\n",
       "      <td>-0.620081</td>\n",
       "    </tr>\n",
       "    <tr>\n",
       "      <th>C</th>\n",
       "      <td>NaN</td>\n",
       "      <td>NaN</td>\n",
       "      <td>NaN</td>\n",
       "      <td>NaN</td>\n",
       "      <td>NaN</td>\n",
       "    </tr>\n",
       "    <tr>\n",
       "      <th>D</th>\n",
       "      <td>0.507860</td>\n",
       "      <td>1.840622</td>\n",
       "      <td>-0.941093</td>\n",
       "      <td>-0.641656</td>\n",
       "      <td>0.105882</td>\n",
       "    </tr>\n",
       "    <tr>\n",
       "      <th>E</th>\n",
       "      <td>0.360632</td>\n",
       "      <td>0.917208</td>\n",
       "      <td>0.905216</td>\n",
       "      <td>-0.035630</td>\n",
       "      <td>-0.398177</td>\n",
       "    </tr>\n",
       "    <tr>\n",
       "      <th>F</th>\n",
       "      <td>-2.406437</td>\n",
       "      <td>-0.443849</td>\n",
       "      <td>0.720432</td>\n",
       "      <td>-0.466449</td>\n",
       "      <td>1.244525</td>\n",
       "    </tr>\n",
       "  </tbody>\n",
       "</table>\n",
       "</div>"
      ],
      "text/plain": [
       "       col1      col2      col3      col4      col5\n",
       "A  0.007045 -0.037213 -1.569754 -0.944114 -0.120270\n",
       "B -2.881577 -1.006870  2.245421 -0.130803 -0.620081\n",
       "C       NaN       NaN       NaN       NaN       NaN\n",
       "D  0.507860  1.840622 -0.941093 -0.641656  0.105882\n",
       "E  0.360632  0.917208  0.905216 -0.035630 -0.398177\n",
       "F -2.406437 -0.443849  0.720432 -0.466449  1.244525"
      ]
     },
     "execution_count": 42,
     "metadata": {},
     "output_type": "execute_result"
    }
   ],
   "source": [
    "dframe2 = dframe.reindex(['A','B','C','D','E','F'])\n",
    "dframe2"
   ]
  },
  {
   "cell_type": "code",
   "execution_count": 44,
   "metadata": {
    "collapsed": false
   },
   "outputs": [],
   "source": [
    "new_columns=['col1','col2','col3','col4','col5','col6']"
   ]
  },
  {
   "cell_type": "code",
   "execution_count": 45,
   "metadata": {
    "collapsed": false
   },
   "outputs": [
    {
     "data": {
      "text/html": [
       "<div>\n",
       "<table border=\"1\" class=\"dataframe\">\n",
       "  <thead>\n",
       "    <tr style=\"text-align: right;\">\n",
       "      <th></th>\n",
       "      <th>col1</th>\n",
       "      <th>col2</th>\n",
       "      <th>col3</th>\n",
       "      <th>col4</th>\n",
       "      <th>col5</th>\n",
       "      <th>col6</th>\n",
       "    </tr>\n",
       "  </thead>\n",
       "  <tbody>\n",
       "    <tr>\n",
       "      <th>A</th>\n",
       "      <td>0.007045</td>\n",
       "      <td>-0.037213</td>\n",
       "      <td>-1.569754</td>\n",
       "      <td>-0.944114</td>\n",
       "      <td>-0.120270</td>\n",
       "      <td>NaN</td>\n",
       "    </tr>\n",
       "    <tr>\n",
       "      <th>B</th>\n",
       "      <td>-2.881577</td>\n",
       "      <td>-1.006870</td>\n",
       "      <td>2.245421</td>\n",
       "      <td>-0.130803</td>\n",
       "      <td>-0.620081</td>\n",
       "      <td>NaN</td>\n",
       "    </tr>\n",
       "    <tr>\n",
       "      <th>C</th>\n",
       "      <td>NaN</td>\n",
       "      <td>NaN</td>\n",
       "      <td>NaN</td>\n",
       "      <td>NaN</td>\n",
       "      <td>NaN</td>\n",
       "      <td>NaN</td>\n",
       "    </tr>\n",
       "    <tr>\n",
       "      <th>D</th>\n",
       "      <td>0.507860</td>\n",
       "      <td>1.840622</td>\n",
       "      <td>-0.941093</td>\n",
       "      <td>-0.641656</td>\n",
       "      <td>0.105882</td>\n",
       "      <td>NaN</td>\n",
       "    </tr>\n",
       "    <tr>\n",
       "      <th>E</th>\n",
       "      <td>0.360632</td>\n",
       "      <td>0.917208</td>\n",
       "      <td>0.905216</td>\n",
       "      <td>-0.035630</td>\n",
       "      <td>-0.398177</td>\n",
       "      <td>NaN</td>\n",
       "    </tr>\n",
       "    <tr>\n",
       "      <th>F</th>\n",
       "      <td>-2.406437</td>\n",
       "      <td>-0.443849</td>\n",
       "      <td>0.720432</td>\n",
       "      <td>-0.466449</td>\n",
       "      <td>1.244525</td>\n",
       "      <td>NaN</td>\n",
       "    </tr>\n",
       "  </tbody>\n",
       "</table>\n",
       "</div>"
      ],
      "text/plain": [
       "       col1      col2      col3      col4      col5  col6\n",
       "A  0.007045 -0.037213 -1.569754 -0.944114 -0.120270   NaN\n",
       "B -2.881577 -1.006870  2.245421 -0.130803 -0.620081   NaN\n",
       "C       NaN       NaN       NaN       NaN       NaN   NaN\n",
       "D  0.507860  1.840622 -0.941093 -0.641656  0.105882   NaN\n",
       "E  0.360632  0.917208  0.905216 -0.035630 -0.398177   NaN\n",
       "F -2.406437 -0.443849  0.720432 -0.466449  1.244525   NaN"
      ]
     },
     "execution_count": 45,
     "metadata": {},
     "output_type": "execute_result"
    }
   ],
   "source": [
    "dframe2.reindex(columns=new_columns)"
   ]
  },
  {
   "cell_type": "code",
   "execution_count": 46,
   "metadata": {
    "collapsed": false
   },
   "outputs": [
    {
     "data": {
      "text/html": [
       "<div>\n",
       "<table border=\"1\" class=\"dataframe\">\n",
       "  <thead>\n",
       "    <tr style=\"text-align: right;\">\n",
       "      <th></th>\n",
       "      <th>col1</th>\n",
       "      <th>col2</th>\n",
       "      <th>col3</th>\n",
       "      <th>col4</th>\n",
       "      <th>col5</th>\n",
       "    </tr>\n",
       "  </thead>\n",
       "  <tbody>\n",
       "    <tr>\n",
       "      <th>A</th>\n",
       "      <td>0.007045</td>\n",
       "      <td>-0.037213</td>\n",
       "      <td>-1.569754</td>\n",
       "      <td>-0.944114</td>\n",
       "      <td>-0.120270</td>\n",
       "    </tr>\n",
       "    <tr>\n",
       "      <th>B</th>\n",
       "      <td>-2.881577</td>\n",
       "      <td>-1.006870</td>\n",
       "      <td>2.245421</td>\n",
       "      <td>-0.130803</td>\n",
       "      <td>-0.620081</td>\n",
       "    </tr>\n",
       "    <tr>\n",
       "      <th>D</th>\n",
       "      <td>0.507860</td>\n",
       "      <td>1.840622</td>\n",
       "      <td>-0.941093</td>\n",
       "      <td>-0.641656</td>\n",
       "      <td>0.105882</td>\n",
       "    </tr>\n",
       "    <tr>\n",
       "      <th>E</th>\n",
       "      <td>0.360632</td>\n",
       "      <td>0.917208</td>\n",
       "      <td>0.905216</td>\n",
       "      <td>-0.035630</td>\n",
       "      <td>-0.398177</td>\n",
       "    </tr>\n",
       "    <tr>\n",
       "      <th>F</th>\n",
       "      <td>-2.406437</td>\n",
       "      <td>-0.443849</td>\n",
       "      <td>0.720432</td>\n",
       "      <td>-0.466449</td>\n",
       "      <td>1.244525</td>\n",
       "    </tr>\n",
       "  </tbody>\n",
       "</table>\n",
       "</div>"
      ],
      "text/plain": [
       "       col1      col2      col3      col4      col5\n",
       "A  0.007045 -0.037213 -1.569754 -0.944114 -0.120270\n",
       "B -2.881577 -1.006870  2.245421 -0.130803 -0.620081\n",
       "D  0.507860  1.840622 -0.941093 -0.641656  0.105882\n",
       "E  0.360632  0.917208  0.905216 -0.035630 -0.398177\n",
       "F -2.406437 -0.443849  0.720432 -0.466449  1.244525"
      ]
     },
     "execution_count": 46,
     "metadata": {},
     "output_type": "execute_result"
    }
   ],
   "source": [
    "dframe"
   ]
  },
  {
   "cell_type": "code",
   "execution_count": 47,
   "metadata": {
    "collapsed": false
   },
   "outputs": [
    {
     "data": {
      "text/html": [
       "<div>\n",
       "<table border=\"1\" class=\"dataframe\">\n",
       "  <thead>\n",
       "    <tr style=\"text-align: right;\">\n",
       "      <th></th>\n",
       "      <th>col1</th>\n",
       "      <th>col2</th>\n",
       "      <th>col3</th>\n",
       "      <th>col4</th>\n",
       "      <th>col5</th>\n",
       "      <th>col6</th>\n",
       "    </tr>\n",
       "  </thead>\n",
       "  <tbody>\n",
       "    <tr>\n",
       "      <th>A</th>\n",
       "      <td>0.007045</td>\n",
       "      <td>-0.037213</td>\n",
       "      <td>-1.569754</td>\n",
       "      <td>-0.944114</td>\n",
       "      <td>-0.120270</td>\n",
       "      <td>NaN</td>\n",
       "    </tr>\n",
       "    <tr>\n",
       "      <th>B</th>\n",
       "      <td>-2.881577</td>\n",
       "      <td>-1.006870</td>\n",
       "      <td>2.245421</td>\n",
       "      <td>-0.130803</td>\n",
       "      <td>-0.620081</td>\n",
       "      <td>NaN</td>\n",
       "    </tr>\n",
       "    <tr>\n",
       "      <th>C</th>\n",
       "      <td>NaN</td>\n",
       "      <td>NaN</td>\n",
       "      <td>NaN</td>\n",
       "      <td>NaN</td>\n",
       "      <td>NaN</td>\n",
       "      <td>NaN</td>\n",
       "    </tr>\n",
       "    <tr>\n",
       "      <th>D</th>\n",
       "      <td>0.507860</td>\n",
       "      <td>1.840622</td>\n",
       "      <td>-0.941093</td>\n",
       "      <td>-0.641656</td>\n",
       "      <td>0.105882</td>\n",
       "      <td>NaN</td>\n",
       "    </tr>\n",
       "    <tr>\n",
       "      <th>E</th>\n",
       "      <td>0.360632</td>\n",
       "      <td>0.917208</td>\n",
       "      <td>0.905216</td>\n",
       "      <td>-0.035630</td>\n",
       "      <td>-0.398177</td>\n",
       "      <td>NaN</td>\n",
       "    </tr>\n",
       "    <tr>\n",
       "      <th>F</th>\n",
       "      <td>-2.406437</td>\n",
       "      <td>-0.443849</td>\n",
       "      <td>0.720432</td>\n",
       "      <td>-0.466449</td>\n",
       "      <td>1.244525</td>\n",
       "      <td>NaN</td>\n",
       "    </tr>\n",
       "  </tbody>\n",
       "</table>\n",
       "</div>"
      ],
      "text/plain": [
       "       col1      col2      col3      col4      col5  col6\n",
       "A  0.007045 -0.037213 -1.569754 -0.944114 -0.120270   NaN\n",
       "B -2.881577 -1.006870  2.245421 -0.130803 -0.620081   NaN\n",
       "C       NaN       NaN       NaN       NaN       NaN   NaN\n",
       "D  0.507860  1.840622 -0.941093 -0.641656  0.105882   NaN\n",
       "E  0.360632  0.917208  0.905216 -0.035630 -0.398177   NaN\n",
       "F -2.406437 -0.443849  0.720432 -0.466449  1.244525   NaN"
      ]
     },
     "execution_count": 47,
     "metadata": {},
     "output_type": "execute_result"
    }
   ],
   "source": [
    "dframe.ix[['A','B','C','D','E','F'],new_columns]"
   ]
  },
  {
   "cell_type": "code",
   "execution_count": null,
   "metadata": {
    "collapsed": true
   },
   "outputs": [],
   "source": []
  }
 ],
 "metadata": {
  "anaconda-cloud": {},
  "kernelspec": {
   "display_name": "Python [Root]",
   "language": "python",
   "name": "Python [Root]"
  },
  "language_info": {
   "codemirror_mode": {
    "name": "ipython",
    "version": 3
   },
   "file_extension": ".py",
   "mimetype": "text/x-python",
   "name": "python",
   "nbconvert_exporter": "python",
   "pygments_lexer": "ipython3",
   "version": "3.5.2"
  }
 },
 "nbformat": 4,
 "nbformat_minor": 0
}
